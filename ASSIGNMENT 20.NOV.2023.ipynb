{
 "cells": [
  {
   "cell_type": "markdown",
   "id": "34c35d02",
   "metadata": {},
   "source": [
    "## How to use RANDOM (randint) to randomly generate valuues "
   ]
  },
  {
   "cell_type": "code",
   "execution_count": null,
   "id": "323e768d",
   "metadata": {},
   "outputs": [],
   "source": [
    "import numpy as np\n",
    "\n",
    "\n",
    "print(np.random.rand(5)) # creating 5 random number between 0 and 1, it uses uniform distribution\n",
    "\n",
    "print(np.random.randint(50,100,5)) # creating integer numbers between 50 and 100, creating 5 of em \n"
   ]
  },
  {
   "cell_type": "markdown",
   "id": "2c960433",
   "metadata": {},
   "source": [
    "## See how to reshape an array"
   ]
  },
  {
   "cell_type": "code",
   "execution_count": null,
   "id": "08370b19",
   "metadata": {},
   "outputs": [],
   "source": [
    "import numpy as np\n",
    "\n",
    "a= np.arange(12)\n",
    "\n",
    "np.reshape(a, (2,6)) # two rows and 6 columns\n",
    "\n",
    "a_2d= a.reshape(2, 6)\n",
    "print(a_2d)\n",
    "\n",
    "a=a_2d.reshape(12)\n",
    "print(a.reshape(6, -1)) # 6 rows and 2 colums\n",
    "\n",
    "#a.reshape(2,6)"
   ]
  },
  {
   "cell_type": "markdown",
   "id": "a6b41f66",
   "metadata": {},
   "source": [
    "## figure out how to use enumerate function"
   ]
  },
  {
   "cell_type": "code",
   "execution_count": null,
   "id": "96f82820",
   "metadata": {},
   "outputs": [],
   "source": [
    "fruits=[\"apples\", \"oranges\", \"bananas\", \"watermelon\",\"cucumber\"]\n",
    "\n",
    "for x, element in enumerate(fruits):\n",
    "    print(x, element)"
   ]
  }
 ],
 "metadata": {
  "kernelspec": {
   "display_name": "Python 3 (ipykernel)",
   "language": "python",
   "name": "python3"
  },
  "language_info": {
   "codemirror_mode": {
    "name": "ipython",
    "version": 3
   },
   "file_extension": ".py",
   "mimetype": "text/x-python",
   "name": "python",
   "nbconvert_exporter": "python",
   "pygments_lexer": "ipython3",
   "version": "3.11.4"
  }
 },
 "nbformat": 4,
 "nbformat_minor": 5
}
